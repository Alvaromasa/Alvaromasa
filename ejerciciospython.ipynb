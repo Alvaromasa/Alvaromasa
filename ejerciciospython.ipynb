{
  "nbformat": 4,
  "nbformat_minor": 0,
  "metadata": {
    "colab": {
      "name": "Untitled4.ipynb",
      "provenance": [],
      "toc_visible": true,
      "authorship_tag": "ABX9TyMc7DKWk2aEG2k3bHCKvstR",
      "include_colab_link": true
    },
    "kernelspec": {
      "name": "python3",
      "display_name": "Python 3"
    },
    "language_info": {
      "name": "python"
    }
  },
  "cells": [
    {
      "cell_type": "markdown",
      "metadata": {
        "id": "view-in-github",
        "colab_type": "text"
      },
      "source": [
        "<a href=\"https://colab.research.google.com/github/Alvaromasa/Alvaromasa/blob/main/ejerciciospython.ipynb\" target=\"_parent\"><img src=\"https://colab.research.google.com/assets/colab-badge.svg\" alt=\"Open In Colab\"/></a>"
      ]
    },
    {
      "cell_type": "code",
      "metadata": {
        "colab": {
          "base_uri": "https://localhost:8080/"
        },
        "id": "qUFEW-EgjLjw",
        "outputId": "682b024b-371a-4eb9-860f-d1a780cb115e"
      },
      "source": [
        "#ejercicio 4\n",
        "lista = [100,200,300,400,500]\n",
        "for i in reversed(lista):\n",
        "  print(i)"
      ],
      "execution_count": 9,
      "outputs": [
        {
          "output_type": "stream",
          "name": "stdout",
          "text": [
            "500\n",
            "400\n",
            "300\n",
            "200\n",
            "100\n"
          ]
        }
      ]
    },
    {
      "cell_type": "code",
      "metadata": {
        "colab": {
          "base_uri": "https://localhost:8080/"
        },
        "id": "OSedPfzonFBy",
        "outputId": "b15baff6-8e08-49ab-9de4-7867f1578562"
      },
      "source": [
        "#ejercicio 5\n",
        "\n",
        "key = \"admin\"\n",
        "password = input(\"Introduce la contraseña: \")\n",
        "if key == password:\n",
        "    print(\"La contaseña coincide\")\n",
        "else:\n",
        "    print(\"La contraseña no coincide\")\n",
        " "
      ],
      "execution_count": 11,
      "outputs": [
        {
          "output_type": "stream",
          "name": "stdout",
          "text": [
            "Introduce la contraseña: admin\n",
            "La contaseña coincide\n"
          ]
        }
      ]
    },
    {
      "cell_type": "code",
      "metadata": {
        "colab": {
          "base_uri": "https://localhost:8080/"
        },
        "id": "6k8T7fZ-o2vK",
        "outputId": "d05a38bb-6332-4f41-b19a-1c0482c23d29"
      },
      "source": [
        "#ejercicio 6\n",
        "\n",
        "edad = int(input(\"introduce tu edad: \"))\n",
        "if edad >= 18:\n",
        "  print(\"eres mayor de edad\")\n",
        "else:\n",
        "  print(\"eres menor de edad\")"
      ],
      "execution_count": 19,
      "outputs": [
        {
          "output_type": "stream",
          "name": "stdout",
          "text": [
            "introduce tu edad: 19\n",
            "eres mayor de edad\n"
          ]
        }
      ]
    },
    {
      "cell_type": "code",
      "metadata": {
        "colab": {
          "base_uri": "https://localhost:8080/"
        },
        "id": "ypEfIQEcqkE9",
        "outputId": "b1b36b30-33ab-4c73-d78d-5f359474cffd"
      },
      "source": [
        "#ejercicio 7\n",
        "contraseña = \"texto\"\n",
        "cadena = input(\"introduce un texto perraa \")\n",
        "\n",
        "if contraseña == cadena.lower():\n",
        "  print(\"todo correcto, es igual\")\n",
        "else:\n",
        "  print(\"no es igualll Bye\")"
      ],
      "execution_count": 22,
      "outputs": [
        {
          "output_type": "stream",
          "name": "stdout",
          "text": [
            "introduce un texto perraa pera\n",
            "no es igualll Bye\n"
          ]
        }
      ]
    },
    {
      "cell_type": "code",
      "metadata": {
        "colab": {
          "base_uri": "https://localhost:8080/"
        },
        "id": "gdxjsBAosmsn",
        "outputId": "65659ba1-08d3-47e1-8464-788d64bd2ed2"
      },
      "source": [
        "#ejercicio 8 \n",
        "\n",
        "n = int(input(\"Introduce un número entero positivo mayor que 2: \"))\n",
        "i = 2\n",
        "while n % i != 0:\n",
        "    i += 1\n",
        "if i == n:\n",
        "    print(str(n) + \" es primo\")\n",
        "else:\n",
        "    print(str(n) + \" no es primo\")"
      ],
      "execution_count": 23,
      "outputs": [
        {
          "output_type": "stream",
          "name": "stdout",
          "text": [
            "Introduce un número entero positivo mayor que 2: 8\n",
            "8 no es primo\n"
          ]
        }
      ]
    },
    {
      "cell_type": "code",
      "metadata": {
        "id": "S8DpfpIts04K"
      },
      "source": [
        "#ejercicio 10 \n",
        "pelicula = {'titulo':'El Más Allá',\n",
        "            'aka':'E tu vivrai nel terrore - Laldilà',\n",
        "            'director':'Lucio Fulci',\n",
        "            'año':1981, \n",
        "            'país':'Italia'}"
      ],
      "execution_count": 25,
      "outputs": []
    },
    {
      "cell_type": "code",
      "metadata": {
        "colab": {
          "base_uri": "https://localhost:8080/"
        },
        "id": "V5BVwDsYtC7u",
        "outputId": "ad54fa22-9a66-4274-ae8f-9395c32df2db"
      },
      "source": [
        "#ejercicio 11\n",
        "titulo = input(\"introduzca titulo\")\n",
        "director = input(\"introduzca director\")\n",
        "\n",
        "pelicula = [titulo, director]\n",
        "\n",
        "print(pelicula)"
      ],
      "execution_count": 27,
      "outputs": [
        {
          "output_type": "stream",
          "name": "stdout",
          "text": [
            "introduzca titulohjj\n",
            "introduzca directorguygug\n",
            "['hjj', 'guygug']\n"
          ]
        }
      ]
    },
    {
      "cell_type": "code",
      "metadata": {
        "colab": {
          "base_uri": "https://localhost:8080/"
        },
        "id": "3j8ToF96uhNT",
        "outputId": "e4fe95bc-63c7-4bd6-84ac-57a442266f85"
      },
      "source": [
        "#ejercicio 13\n",
        "\n",
        "\n",
        "def areatriangulo(base,altura):\n",
        "  resultado = (base*altura)/2\n",
        "  print(resultado)\n",
        "\n",
        "areatriangulo(3,5)\n",
        "\n",
        "def circulo()"
      ],
      "execution_count": 30,
      "outputs": [
        {
          "output_type": "stream",
          "name": "stdout",
          "text": [
            "7.5\n"
          ]
        }
      ]
    },
    {
      "cell_type": "code",
      "metadata": {
        "colab": {
          "base_uri": "https://localhost:8080/"
        },
        "id": "iMxcay03wTUp",
        "outputId": "90e268c8-58f9-495e-ab46-fde922b5bd6a"
      },
      "source": [
        "#ejercicio 15\n",
        "def cuadrado(*sample):\n",
        "    \"\"\"Función que calcula los cuadrados de una lista de números.\n",
        "    Parámetros\n",
        "    *sample: Es una secuencia de números separados por comas.\n",
        "    Devuelve una lista con los cuadrados de los números de sample.\n",
        "    \"\"\"\n",
        "    list = []\n",
        "    for i in sample:\n",
        "        list.append(i**2)\n",
        "    return list\n",
        "\n",
        "print(cuadrado(1, 2, 3, 4, 5))\n"
      ],
      "execution_count": 32,
      "outputs": [
        {
          "output_type": "stream",
          "name": "stdout",
          "text": [
            "[1, 4, 9, 16, 25]\n"
          ]
        }
      ]
    },
    {
      "cell_type": "code",
      "metadata": {
        "colab": {
          "base_uri": "https://localhost:8080/"
        },
        "id": "vlEP3_lyw7Du",
        "outputId": "69160e1a-69c1-4096-f210-3f55d7c05e40"
      },
      "source": [
        "#ejercicio 16\n",
        "from datetime import date, datetime, timedelta\n",
        "hoy=date.today()\n",
        "\n",
        "mañana=hoy+timedelta(days=1)\n",
        "\n",
        "diferencia_en_dias=mañana-hoy\n",
        "\n",
        "diferencia_en_dias\n"
      ],
      "execution_count": 34,
      "outputs": [
        {
          "output_type": "execute_result",
          "data": {
            "text/plain": [
              "datetime.timedelta(days=1)"
            ]
          },
          "metadata": {},
          "execution_count": 34
        }
      ]
    },
    {
      "cell_type": "code",
      "metadata": {
        "colab": {
          "base_uri": "https://localhost:8080/"
        },
        "id": "M3G_OYHqw9_m",
        "outputId": "48395da1-fdc1-4226-91c1-d40455afd700"
      },
      "source": [
        "#ejercicio 17\n",
        "\n",
        "tupla = (2, 4, 3, 5, 4, 6, 7, 8, 6, 1)\n",
        "print(tupla[3:6])\n",
        "print(tupla[0:5])\n",
        "print(tupla[4:])\n",
        "print(tupla[:])\n",
        "print(tupla[2:9:2])\n",
        "print(tupla[::4])"
      ],
      "execution_count": 43,
      "outputs": [
        {
          "output_type": "stream",
          "name": "stdout",
          "text": [
            "(5, 4, 6)\n",
            "(2, 4, 3, 5, 4)\n",
            "(4, 6, 7, 8, 6, 1)\n",
            "(2, 4, 3, 5, 4, 6, 7, 8, 6, 1)\n",
            "(3, 4, 7, 6)\n",
            "(2, 4, 6)\n"
          ]
        }
      ]
    },
    {
      "cell_type": "code",
      "metadata": {
        "id": "GdMQKqtUw-f3"
      },
      "source": [
        ""
      ],
      "execution_count": null,
      "outputs": []
    }
  ]
}